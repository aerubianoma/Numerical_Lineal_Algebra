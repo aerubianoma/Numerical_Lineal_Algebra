{
 "cells": [
  {
   "cell_type": "code",
   "execution_count": 1,
   "metadata": {
    "id": "FS9U7fUKCbWA"
   },
   "outputs": [],
   "source": [
    "using LinearAlgebra\n",
    "using Plots"
   ]
  },
  {
   "cell_type": "code",
   "execution_count": 2,
   "metadata": {
    "id": "XJ37xU1pCbWD",
    "outputId": "48f682c4-f6e8-4ddf-8310-82178c986faf"
   },
   "outputs": [
    {
     "data": {
      "text/plain": [
       "2"
      ]
     },
     "execution_count": 2,
     "metadata": {},
     "output_type": "execute_result"
    }
   ],
   "source": [
    "α=2"
   ]
  },
  {
   "cell_type": "code",
   "execution_count": 3,
   "metadata": {
    "id": "kbv3NDwsCbWE",
    "outputId": "448655bc-fbff-47d8-88db-3f31c405987b"
   },
   "outputs": [
    {
     "data": {
      "text/plain": [
       "4"
      ]
     },
     "execution_count": 3,
     "metadata": {},
     "output_type": "execute_result"
    }
   ],
   "source": [
    "α^2"
   ]
  },
  {
   "cell_type": "code",
   "execution_count": 4,
   "metadata": {
    "id": "20jND3iwCbWF",
    "outputId": "be54e965-95d1-41e5-b9b8-c0885476db83"
   },
   "outputs": [
    {
     "data": {
      "text/plain": [
       "true"
      ]
     },
     "execution_count": 4,
     "metadata": {},
     "output_type": "execute_result"
    }
   ],
   "source": [
    "1+eps() ≈ 1"
   ]
  },
  {
   "cell_type": "code",
   "execution_count": 5,
   "metadata": {
    "id": "yddoKVm6CbWF"
   },
   "outputs": [],
   "source": [
    "n = 10\n",
    "m = 30 \n",
    "A = rand(m,n);"
   ]
  },
  {
   "cell_type": "code",
   "execution_count": null,
   "metadata": {
    "id": "xGKxloflCbWG",
    "outputId": "be2ea33e-1a7f-452b-9913-a1d30b3e7947"
   },
   "outputs": [
    {
     "data": {
      "text/plain": [
       "QR (generic function with 1 method)"
      ]
     },
     "execution_count": 120,
     "metadata": {},
     "output_type": "execute_result"
    }
   ],
   "source": [
    "function QR(A)\n",
    "    Q = zeros(size(A)) #(m,n)\n",
    "    R = zeros(size(A,2),size(A,2)) #(n,n)\n",
    "\n",
    "    for i = 1:n\n",
    "        for j = 1:i-1\n",
    "            R[j,i] = Q[:,j]'A[:,i]\n",
    "        end\n",
    "        p = A[:,i] - Q[:,1:i-1]*R[1:i-1,i]\n",
    "        R[i,i]=norm(p)\n",
    "        if abs(R[i,i])<0.00000000001\n",
    "            println(\"Rii cercano 0\")\n",
    "        end\n",
    "        Q[:,i] = p/R[i,i]\n",
    "    end\n",
    "    return Q,R\n",
    "end"
   ]
  },
  {
   "cell_type": "code",
   "execution_count": null,
   "metadata": {
    "id": "6_QedWZKCbWG",
    "outputId": "c6ff444e-fc45-4276-8277-15b3ed9d7a09"
   },
   "outputs": [
    {
     "data": {
      "text/plain": [
       "10×10 Matrix{Float64}:\n",
       " 3.14294  2.77851  2.20234  2.02834   …   2.18218     2.42419    2.57018\n",
       " 0.0      2.03058  1.13474  0.680927      1.02847     0.852917   0.738961\n",
       " 0.0      0.0      1.554    0.302748      0.334184    0.15845    0.613358\n",
       " 0.0      0.0      0.0      1.91068       0.928256    0.574492   0.603361\n",
       " 0.0      0.0      0.0      0.0           1.20815     0.254801   0.634323\n",
       " 0.0      0.0      0.0      0.0       …   0.170004    0.521275   0.586164\n",
       " 0.0      0.0      0.0      0.0          -0.0140096   0.737891   0.325841\n",
       " 0.0      0.0      0.0      0.0           1.16871    -0.359364   0.297556\n",
       " 0.0      0.0      0.0      0.0           0.0         1.27466   -0.183136\n",
       " 0.0      0.0      0.0      0.0           0.0         0.0        1.62944"
      ]
     },
     "execution_count": 54,
     "metadata": {},
     "output_type": "execute_result"
    }
   ],
   "source": [
    "Q1, R1 = QR(A)\n",
    "R1"
   ]
  },
  {
   "cell_type": "code",
   "execution_count": null,
   "metadata": {
    "id": "8hije_6-CbWG"
   },
   "outputs": [],
   "source": [
    "R;"
   ]
  },
  {
   "cell_type": "code",
   "execution_count": null,
   "metadata": {
    "id": "iZLfS8WQCbWH",
    "outputId": "2bcf8fcd-7074-4330-a013-c2713effd613"
   },
   "outputs": [
    {
     "data": {
      "text/plain": [
       "5.3117782748286405e-16"
      ]
     },
     "execution_count": 40,
     "metadata": {},
     "output_type": "execute_result"
    }
   ],
   "source": [
    "opnorm(A-Q*R)"
   ]
  },
  {
   "cell_type": "code",
   "execution_count": null,
   "metadata": {
    "id": "t1D-cbFYCbWI",
    "outputId": "ba31ed85-37f9-4264-e51d-33cedba0ce3b"
   },
   "outputs": [
    {
     "data": {
      "text/plain": [
       "2.79373723884392e-15"
      ]
     },
     "execution_count": 37,
     "metadata": {},
     "output_type": "execute_result"
    }
   ],
   "source": [
    "opnorm(Q'Q-UniformScaling(1))"
   ]
  },
  {
   "cell_type": "code",
   "execution_count": null,
   "metadata": {
    "id": "1iv9vZgmCbWI",
    "outputId": "c53d9c9a-c90b-4004-ec56-0b5f5043fcd3"
   },
   "outputs": [
    {
     "data": {
      "text/plain": [
       "2×2 Matrix{Int64}:\n",
       " 1  0\n",
       " 0  1"
      ]
     },
     "execution_count": 34,
     "metadata": {},
     "output_type": "execute_result"
    }
   ],
   "source": [
    "T=[1 0;0 1 ]"
   ]
  },
  {
   "cell_type": "code",
   "execution_count": null,
   "metadata": {
    "id": "nvmJbLQcCbWI",
    "outputId": "c0819a47-eb92-4b5a-8923-afcf911273eb"
   },
   "outputs": [
    {
     "data": {
      "text/plain": [
       "2×2 Matrix{Int64}:\n",
       " 3  0\n",
       " 0  3"
      ]
     },
     "execution_count": 35,
     "metadata": {},
     "output_type": "execute_result"
    }
   ],
   "source": [
    "T+UniformScaling(2)"
   ]
  },
  {
   "cell_type": "code",
   "execution_count": null,
   "metadata": {
    "id": "ZceKewEHCbWJ",
    "outputId": "541f7591-3b01-4998-a11b-10cbfdb62423"
   },
   "outputs": [
    {
     "name": "stdout",
     "output_type": "stream",
     "text": [
      "  0.000206 seconds (5 allocations: 53.453 KiB)\n"
     ]
    },
    {
     "data": {
      "text/plain": [
       "LinearAlgebra.QRCompactWY{Float64, Matrix{Float64}}\n",
       "Q factor:\n",
       "300×300 LinearAlgebra.QRCompactWYQ{Float64, Matrix{Float64}}:\n",
       " -0.0685416    0.0481848    0.0148348   …  -0.0570679     0.0109258\n",
       " -0.0697303   -0.0223041   -0.034404       -0.00713894    0.135676\n",
       " -0.0579367    0.00600138  -0.056159       -0.0566674    -0.0419135\n",
       " -0.096164    -0.00756853   0.105761        0.0426382    -0.0706557\n",
       " -0.062246     0.0178933   -0.0468127      -0.0269922    -0.0177876\n",
       " -0.0971142   -0.0971686   -0.0884602   …  -0.0821534    -0.0394707\n",
       " -0.0243096    0.0756014   -0.0556954      -0.0963627    -0.055509\n",
       " -0.0438311    0.0317933   -0.0738614       0.00369137    0.085783\n",
       " -0.0833149   -0.0715527   -0.0900289      -0.0932163    -0.0561914\n",
       " -0.0139162    0.0663799   -0.0864044       0.0833362     0.070898\n",
       " -0.0163156    0.0881814    0.0556675   …   0.0168877    -0.0404341\n",
       " -0.0405705   -0.0338176   -0.107335        0.0255769     0.0733558\n",
       " -0.0717663    0.0561208    0.0365409       0.0842536     0.0492324\n",
       "  ⋮                                     ⋱                \n",
       " -0.0708437   -0.0100568   -0.0184507       0.0195915     0.00775817\n",
       " -0.0207171    0.0647874   -0.0138616       0.00569433   -0.00705292\n",
       " -0.0197375    0.00951706  -0.100059    …   0.0103093    -0.0258294\n",
       " -0.031716     0.00976049  -0.0449445      -0.00784688   -0.0103009\n",
       " -0.0413033   -0.0224619   -0.00194731      0.0246748     0.0308632\n",
       " -0.0806846   -0.0762781   -0.04274        -0.00344511    0.0185182\n",
       " -0.0841556   -0.0606222   -0.0340511      -0.015071      0.00650061\n",
       " -0.0840609   -0.0572413   -0.0705281   …  -0.0130058     0.00426842\n",
       " -0.0738016   -0.0473281   -0.0388886      -0.000705879   0.00871712\n",
       " -0.0562382    0.0559079   -0.0662222       0.00844315   -0.0178104\n",
       " -0.0471838   -0.0294736   -0.0924829       0.932326     -0.024049\n",
       " -0.00675849   0.133965    -0.0396653      -0.0347309     0.903981\n",
       "R factor:\n",
       "20×20 Matrix{Float64}:\n",
       " -10.1768  -7.50911  -7.78824  …  -7.92388    -7.32937    -7.74053\n",
       "   0.0      6.86137   2.978        2.3754      2.58205     2.68034\n",
       "   0.0      0.0      -5.83446     -1.98127    -1.25889    -1.85545\n",
       "   0.0      0.0       0.0         -0.85069    -1.58021    -1.13078\n",
       "   0.0      0.0       0.0          0.685165    0.730628    1.11271\n",
       "   0.0      0.0       0.0      …   0.971505    0.81553     0.74484\n",
       "   0.0      0.0       0.0         -0.775644   -1.17449    -1.13631\n",
       "   0.0      0.0       0.0         -0.749448   -0.168177    0.00803161\n",
       "   0.0      0.0       0.0         -0.396617   -0.429204   -0.965409\n",
       "   0.0      0.0       0.0         -0.596255   -0.80095    -0.924788\n",
       "   0.0      0.0       0.0      …   0.339557   -0.0885092   0.489123\n",
       "   0.0      0.0       0.0         -0.612381   -0.514271   -0.200022\n",
       "   0.0      0.0       0.0          0.606909    0.407717    0.589536\n",
       "   0.0      0.0       0.0          0.35052     0.919088    0.243476\n",
       "   0.0      0.0       0.0          0.0740972  -0.0904616   0.301632\n",
       "   0.0      0.0       0.0      …  -0.271543    0.345666    0.141376\n",
       "   0.0      0.0       0.0          0.172825   -0.0764563   0.271156\n",
       "   0.0      0.0       0.0          4.64547     0.360662    0.395375\n",
       "   0.0      0.0       0.0          0.0        -4.90624    -0.394853\n",
       "   0.0      0.0       0.0          0.0         0.0         5.07785"
      ]
     },
     "execution_count": 45,
     "metadata": {},
     "output_type": "execute_result"
    }
   ],
   "source": [
    "@time Aqr=qr(A)"
   ]
  },
  {
   "cell_type": "code",
   "execution_count": null,
   "metadata": {
    "id": "TxJBgfcPCbWL",
    "outputId": "688e7261-bbd3-43d6-bdf8-ee1b93df7b14"
   },
   "outputs": [
    {
     "data": {
      "text/plain": [
       "2.8233092803559705e-14"
      ]
     },
     "execution_count": 39,
     "metadata": {},
     "output_type": "execute_result"
    }
   ],
   "source": [
    "opnorm(A-Aqr.Q*Aqr.R)"
   ]
  },
  {
   "cell_type": "code",
   "execution_count": null,
   "metadata": {
    "id": "iq5gvIkdCbWL",
    "outputId": "516addb1-a248-4d79-ad83-3b908416f51b"
   },
   "outputs": [
    {
     "ename": "LoadError",
     "evalue": "InterruptException:",
     "output_type": "error",
     "traceback": [
      "InterruptException:",
      "",
      "Stacktrace:",
      "  [1] Array",
      "    @ ./boot.jl:457 [inlined]",
      "  [2] Array",
      "    @ ./boot.jl:466 [inlined]",
      "  [3] zeros",
      "    @ ./array.jl:525 [inlined]",
      "  [4] zeros",
      "    @ ./array.jl:521 [inlined]",
      "  [5] getindex(Q::LinearAlgebra.QRCompactWYQ{Float64, Matrix{Float64}}, i::Int64, j::Int64)",
      "    @ LinearAlgebra ~/julia-1.7.3/share/julia/stdlib/v1.7/LinearAlgebra/src/qr.jl:572",
      "  [6] _generic_matmatmul!(C::Matrix{Float64}, tA::Char, tB::Char, A::LinearAlgebra.QRCompactWYQ{Float64, Matrix{Float64}}, B::LinearAlgebra.QRCompactWYQ{Float64, Matrix{Float64}}, _add::LinearAlgebra.MulAddMul{true, true, Bool, Bool})",
      "    @ LinearAlgebra ~/julia-1.7.3/share/julia/stdlib/v1.7/LinearAlgebra/src/matmul.jl:947",
      "  [7] generic_matmatmul!(C::Matrix{Float64}, tA::Char, tB::Char, A::LinearAlgebra.QRCompactWYQ{Float64, Matrix{Float64}}, B::LinearAlgebra.QRCompactWYQ{Float64, Matrix{Float64}}, _add::LinearAlgebra.MulAddMul{true, true, Bool, Bool})",
      "    @ LinearAlgebra ~/julia-1.7.3/share/julia/stdlib/v1.7/LinearAlgebra/src/matmul.jl:798",
      "  [8] mul!",
      "    @ ~/julia-1.7.3/share/julia/stdlib/v1.7/LinearAlgebra/src/matmul.jl:458 [inlined]",
      "  [9] mul!",
      "    @ ~/julia-1.7.3/share/julia/stdlib/v1.7/LinearAlgebra/src/matmul.jl:275 [inlined]",
      " [10] *(A::Adjoint{Float64, LinearAlgebra.QRCompactWYQ{Float64, Matrix{Float64}}}, B::LinearAlgebra.QRCompactWYQ{Float64, Matrix{Float64}})",
      "    @ LinearAlgebra ~/julia-1.7.3/share/julia/stdlib/v1.7/LinearAlgebra/src/matmul.jl:153",
      " [11] top-level scope",
      "    @ In[41]:1",
      " [12] eval",
      "    @ ./boot.jl:373 [inlined]",
      " [13] include_string(mapexpr::typeof(REPL.softscope), mod::Module, code::String, filename::String)",
      "    @ Base ./loading.jl:1196"
     ]
    }
   ],
   "source": [
    "#opnorm(Aqr.Q'Aqr.Q-UniformScaling(1))"
   ]
  },
  {
   "cell_type": "code",
   "execution_count": null,
   "metadata": {
    "id": "rWinVrE0CbWL",
    "outputId": "d9cc9922-2b6e-4fd9-f736-79286d213047"
   },
   "outputs": [
    {
     "data": {
      "text/plain": [
       "3×3 Matrix{Int64}:\n",
       " 1  1  1\n",
       " 1  1  1\n",
       " 1  1  1"
      ]
     },
     "execution_count": 90,
     "metadata": {},
     "output_type": "execute_result"
    }
   ],
   "source": [
    "T1=[1 1; 1 1; 1 1]\n",
    "T2=[1;1;1]\n",
    "T=[T1 T2]"
   ]
  },
  {
   "cell_type": "code",
   "execution_count": null,
   "metadata": {
    "id": "nwGWF5TfCbWM",
    "outputId": "9f2589f5-ca62-430a-e81d-294c783ac42d"
   },
   "outputs": [
    {
     "data": {
      "text/plain": [
       "10"
      ]
     },
     "execution_count": 126,
     "metadata": {},
     "output_type": "execute_result"
    }
   ],
   "source": [
    "Int(20/2)"
   ]
  },
  {
   "cell_type": "code",
   "execution_count": null,
   "metadata": {
    "id": "Ge2Xh-TeCbWM"
   },
   "outputs": [],
   "source": [
    "n = 20\n",
    "m = 30 \n",
    "A1 = rand(m,Int(n/2));\n",
    "A2=A1+0.0000000001*rand(m,Int(n/2));\n",
    "#opnorm(A1-A2)\n",
    "A3=[A1 A2];\n",
    "#A3=rand(m,n)"
   ]
  },
  {
   "cell_type": "code",
   "execution_count": null,
   "metadata": {
    "id": "8o_kW02RCbWM"
   },
   "outputs": [],
   "source": [
    "Q2, R2 = QR(A3);"
   ]
  },
  {
   "cell_type": "code",
   "execution_count": null,
   "metadata": {
    "id": "g7V23rwiCbWN",
    "outputId": "b8165c73-445f-4310-e5ee-6e981e9d9daa"
   },
   "outputs": [
    {
     "data": {
      "text/plain": [
       "2.266271917013403e-16"
      ]
     },
     "execution_count": 155,
     "metadata": {},
     "output_type": "execute_result"
    }
   ],
   "source": [
    "opnorm(A3-Q2*R2)"
   ]
  },
  {
   "cell_type": "code",
   "execution_count": null,
   "metadata": {
    "id": "DUVR7Gd-CbWN",
    "outputId": "80da53db-1b84-4cf7-f8e9-9f502651df24"
   },
   "outputs": [
    {
     "data": {
      "text/plain": [
       "9.000000000191681"
      ]
     },
     "execution_count": 156,
     "metadata": {},
     "output_type": "execute_result"
    }
   ],
   "source": [
    "opnorm(Q2'Q2-UniformScaling(1))"
   ]
  },
  {
   "cell_type": "code",
   "execution_count": null,
   "metadata": {
    "id": "7c3N3GeyCbWN",
    "outputId": "79a887d9-e7c0-49f1-e1b4-94a3b0555d1a"
   },
   "outputs": [
    {
     "data": {
      "text/plain": [
       "20-element Vector{Float64}:\n",
       " 2.746236647077689\n",
       " 2.163122370779785\n",
       " 1.8168132543157263\n",
       " 1.6407049742356705\n",
       " 1.6003691842283034\n",
       " 1.0116245379463455\n",
       " 1.3581723646538661\n",
       " 1.3753071945800943\n",
       " 1.430888545196458\n",
       " 1.2503532789243827\n",
       " 0.0\n",
       " 0.0\n",
       " 0.0\n",
       " 0.0\n",
       " 0.0\n",
       " 0.0\n",
       " 0.0\n",
       " 0.0\n",
       " 0.0\n",
       " 0.0"
      ]
     },
     "execution_count": 108,
     "metadata": {},
     "output_type": "execute_result"
    }
   ],
   "source": [
    "diag(R2)"
   ]
  },
  {
   "cell_type": "code",
   "execution_count": null,
   "metadata": {
    "id": "CYjP_3xxCbWN"
   },
   "outputs": [],
   "source": []
  }
 ],
 "metadata": {
  "colab": {
   "name": "Cuaderno2.ipynb",
   "provenance": []
  },
  "kernelspec": {
   "display_name": "Julia 1.7.2",
   "language": "julia",
   "name": "julia-1.7"
  },
  "language_info": {
   "file_extension": ".jl",
   "mimetype": "application/julia",
   "name": "julia",
   "version": "1.7.2"
  }
 },
 "nbformat": 4,
 "nbformat_minor": 1
}
