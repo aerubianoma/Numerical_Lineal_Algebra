{
 "cells": [
  {
   "cell_type": "code",
   "execution_count": 1,
   "metadata": {
    "id": "FS9U7fUKCbWA"
   },
   "outputs": [],
   "source": [
    "using LinearAlgebra\n",
    "using Plots"
   ]
  },
  {
   "cell_type": "code",
   "execution_count": 2,
   "metadata": {
    "id": "XJ37xU1pCbWD",
    "outputId": "48f682c4-f6e8-4ddf-8310-82178c986faf"
   },
   "outputs": [
    {
     "data": {
      "text/plain": [
       "2"
      ]
     },
     "execution_count": 2,
     "metadata": {},
     "output_type": "execute_result"
    }
   ],
   "source": [
    "α=2"
   ]
  },
  {
   "cell_type": "code",
   "execution_count": 3,
   "metadata": {
    "id": "kbv3NDwsCbWE",
    "outputId": "448655bc-fbff-47d8-88db-3f31c405987b"
   },
   "outputs": [
    {
     "data": {
      "text/plain": [
       "4"
      ]
     },
     "execution_count": 3,
     "metadata": {},
     "output_type": "execute_result"
    }
   ],
   "source": [
    "α^2"
   ]
  },
  {
   "cell_type": "code",
   "execution_count": 4,
   "metadata": {
    "id": "20jND3iwCbWF",
    "outputId": "be54e965-95d1-41e5-b9b8-c0885476db83"
   },
   "outputs": [
    {
     "data": {
      "text/plain": [
       "true"
      ]
     },
     "execution_count": 4,
     "metadata": {},
     "output_type": "execute_result"
    }
   ],
   "source": [
    "1+eps() ≈ 1"
   ]
  },
  {
   "cell_type": "code",
   "execution_count": 5,
   "metadata": {
    "id": "yddoKVm6CbWF"
   },
   "outputs": [],
   "source": [
    "n = 10\n",
    "m = 30 \n",
    "A = rand(m,n);"
   ]
  },
  {
   "cell_type": "code",
   "execution_count": 38,
   "metadata": {
    "id": "xGKxloflCbWG",
    "outputId": "be2ea33e-1a7f-452b-9913-a1d30b3e7947"
   },
   "outputs": [
    {
     "data": {
      "text/plain": [
       "QR (generic function with 1 method)"
      ]
     },
     "execution_count": 38,
     "metadata": {},
     "output_type": "execute_result"
    }
   ],
   "source": [
    "function QR(A)\n",
    "    Q = zeros(size(A)) #(m,n)\n",
    "    R = zeros(size(A,2),size(A,2)) #(n,n)\n",
    "\n",
    "    for i = 1:n\n",
    "        for j = 1:i-1\n",
    "            R[j,i] = Q[:,j]'A[:,i]\n",
    "            println(R)\n",
    "        end\n",
    "        p = A[:,i] - Q[:,1:i-1]*R[1:i-1,i]\n",
    "        R[i,i]=norm(p)\n",
    "        if abs(R[i,i])<0.00000000001\n",
    "            println(\"Rii cercano 0\")\n",
    "        end\n",
    "        Q[:,i] = p/R[i,i]\n",
    "    end\n",
    "    return Q,R\n",
    "end"
   ]
  },
  {
   "cell_type": "code",
   "execution_count": 37,
   "metadata": {
    "id": "6_QedWZKCbWG",
    "outputId": "c6ff444e-fc45-4276-8277-15b3ed9d7a09"
   },
   "outputs": [
    {
     "name": "stdout",
     "output_type": "stream",
     "text": [
      "uno\n",
      "[0.0 0.0; 0.0 0.0]\n",
      "2\n",
      "uno\n",
      "[0.019612609727534033 0.0; 0.9998076542713981 0.0]\n",
      "[0.8914518484865129 0.2529509860870179; 0.0 0.0]\n",
      "2\n",
      "uno\n",
      "[0.019612609727534033 0.9998076542713981; 0.9998076542713981 -0.01961260972753397]\n"
     ]
    },
    {
     "ename": "LoadError",
     "evalue": "BoundsError: attempt to access 2×2 Matrix{Float64} at index [1:2, 3]",
     "output_type": "error",
     "traceback": [
      "BoundsError: attempt to access 2×2 Matrix{Float64} at index [1:2, 3]",
      "",
      "Stacktrace:",
      " [1] throw_boundserror(A::Matrix{Float64}, I::Tuple{Base.Slice{Base.OneTo{Int64}}, Int64})",
      "   @ Base .\\abstractarray.jl:691",
      " [2] checkbounds",
      "   @ .\\abstractarray.jl:656 [inlined]",
      " [3] _getindex(::IndexLinear, ::Matrix{Float64}, ::Base.Slice{Base.OneTo{Int64}}, ::Int64)",
      "   @ Base .\\multidimensional.jl:838",
      " [4] getindex",
      "   @ .\\abstractarray.jl:1218 [inlined]",
      " [5] QR(A::Matrix{Float64})",
      "   @ Main .\\In[36]:9",
      " [6] top-level scope",
      "   @ In[37]:1",
      " [7] eval",
      "   @ .\\boot.jl:373 [inlined]",
      " [8] include_string(mapexpr::typeof(REPL.softscope), mod::Module, code::String, filename::String)",
      "   @ Base .\\loading.jl:1196"
     ]
    }
   ],
   "source": [
    "Q, R = QR(rand(2,2))\n",
    "R"
   ]
  },
  {
   "cell_type": "code",
   "execution_count": 13,
   "metadata": {
    "id": "iZLfS8WQCbWH",
    "outputId": "2bcf8fcd-7074-4330-a013-c2713effd613"
   },
   "outputs": [
    {
     "data": {
      "text/plain": [
       "5.105868524331349e-16"
      ]
     },
     "execution_count": 13,
     "metadata": {},
     "output_type": "execute_result"
    }
   ],
   "source": [
    "opnorm(A-Q*R)"
   ]
  },
  {
   "cell_type": "code",
   "execution_count": 14,
   "metadata": {
    "id": "t1D-cbFYCbWI",
    "outputId": "ba31ed85-37f9-4264-e51d-33cedba0ce3b"
   },
   "outputs": [
    {
     "data": {
      "text/plain": [
       "3.87652831475042e-15"
      ]
     },
     "execution_count": 14,
     "metadata": {},
     "output_type": "execute_result"
    }
   ],
   "source": [
    "opnorm(Q'Q-UniformScaling(1))"
   ]
  },
  {
   "cell_type": "code",
   "execution_count": 15,
   "metadata": {
    "id": "1iv9vZgmCbWI",
    "outputId": "c53d9c9a-c90b-4004-ec56-0b5f5043fcd3"
   },
   "outputs": [
    {
     "data": {
      "text/plain": [
       "2×2 Matrix{Int64}:\n",
       " 1  0\n",
       " 0  1"
      ]
     },
     "execution_count": 15,
     "metadata": {},
     "output_type": "execute_result"
    }
   ],
   "source": [
    "T=[1 0;0 1 ]"
   ]
  },
  {
   "cell_type": "code",
   "execution_count": 16,
   "metadata": {
    "id": "nvmJbLQcCbWI",
    "outputId": "c0819a47-eb92-4b5a-8923-afcf911273eb"
   },
   "outputs": [
    {
     "data": {
      "text/plain": [
       "2×2 Matrix{Int64}:\n",
       " 3  0\n",
       " 0  3"
      ]
     },
     "execution_count": 16,
     "metadata": {},
     "output_type": "execute_result"
    }
   ],
   "source": [
    "T+UniformScaling(2)"
   ]
  },
  {
   "cell_type": "code",
   "execution_count": 17,
   "metadata": {
    "id": "ZceKewEHCbWJ",
    "outputId": "541f7591-3b01-4998-a11b-10cbfdb62423"
   },
   "outputs": [
    {
     "name": "stdout",
     "output_type": "stream",
     "text": [
      "  0.195644 seconds (124.63 k allocations: 6.742 MiB, 28.71% gc time, 98.29% compilation time)\n"
     ]
    },
    {
     "data": {
      "text/plain": [
       "LinearAlgebra.QRCompactWY{Float64, Matrix{Float64}}\n",
       "Q factor:\n",
       "30×30 LinearAlgebra.QRCompactWYQ{Float64, Matrix{Float64}}:\n",
       " -0.211018   -0.0352995     0.117477   -0.239168   …  -0.16908    -0.181483\n",
       " -0.129794   -0.32625       0.248706    0.0968155     -0.0625078   0.308187\n",
       " -0.189087   -0.220988     -0.115848    0.0830908     -0.134437   -0.185919\n",
       " -0.24125     0.0655345    -0.0595495  -0.417304      -0.0086168   0.143188\n",
       " -0.248298   -0.14273       0.371581    0.0871158     -0.181507    0.032916\n",
       " -0.0364259  -0.15741      -0.396856    0.109127   …  -0.0241534   0.0649402\n",
       " -0.0554089  -0.268172      0.0852487   0.273254      -0.119503   -0.352934\n",
       " -0.26065     0.30809       0.137215    0.041021       0.0120578   0.0386496\n",
       " -0.184553   -0.0800115     0.0290337  -0.0510811     -0.317342    0.0742788\n",
       " -0.130444   -0.0924223    -0.118482    0.19224       -0.16506     0.0883887\n",
       " -0.039454   -0.131723     -0.0680565   0.329111   …   0.0559904  -0.059585\n",
       " -0.277415    0.203416      0.188644   -0.0590808     -0.0229863   0.0251057\n",
       " -0.0326274  -0.261599     -0.335248   -0.134262       0.0636083  -0.0684589\n",
       "  ⋮                                                ⋱              \n",
       " -0.247438    0.0342788     0.017504    0.0300654      0.0265505   0.0550565\n",
       " -0.156446    0.119601     -0.168121    0.0791231      0.024411   -0.218974\n",
       " -0.202419   -0.203765     -0.0375772  -0.201797   …  -0.043504    0.00495536\n",
       " -0.191745    0.0422253    -0.2421      0.153887      -0.0355654   0.0134928\n",
       " -0.168781   -0.256299      0.0199144  -0.272978       0.047096    0.097838\n",
       " -0.251042    0.0488452    -0.183342   -0.22128       -0.10255     0.00412356\n",
       " -0.175819    0.105936      0.0123143   0.0148402     -0.0140028  -0.138065\n",
       " -0.205468    0.264213     -0.270276    0.180878   …  -0.0190559  -0.306552\n",
       " -0.129024   -0.000277568   0.152691    0.265541       0.0145648   0.0289243\n",
       " -0.0897635  -0.197429      0.0901665   0.200589       0.0567473  -0.0203936\n",
       " -0.25205    -0.128468      0.0543633   0.022886       0.848031   -0.00189802\n",
       " -0.110795    0.150709     -0.23552     0.255046      -0.0234384   0.690855\n",
       "R factor:\n",
       "10×10 Matrix{Float64}:\n",
       " -3.50569  -2.72201  -2.33517   -3.11597   …  -2.16037   -2.70688   -2.45743\n",
       "  0.0      -1.63822  -0.543886  -0.474716     -0.247647  -0.87434   -0.500628\n",
       "  0.0       0.0      -1.42666   -0.537947     -0.724936  -0.893018  -0.622274\n",
       "  0.0       0.0       0.0        1.74357       0.686663   0.428158   0.240941\n",
       "  0.0       0.0       0.0        0.0           0.375555   0.46988   -0.102502\n",
       "  0.0       0.0       0.0        0.0       …  -0.178543   0.436152   0.041517\n",
       "  0.0       0.0       0.0        0.0          -0.218253  -0.275086   0.126462\n",
       "  0.0       0.0       0.0        0.0           1.33929    0.325003  -0.117617\n",
       "  0.0       0.0       0.0        0.0           0.0        1.48205    0.547756\n",
       "  0.0       0.0       0.0        0.0           0.0        0.0        1.46205"
      ]
     },
     "execution_count": 17,
     "metadata": {},
     "output_type": "execute_result"
    }
   ],
   "source": [
    "@time Aqr=qr(A)"
   ]
  },
  {
   "cell_type": "code",
   "execution_count": 18,
   "metadata": {
    "id": "TxJBgfcPCbWL",
    "outputId": "688e7261-bbd3-43d6-bdf8-ee1b93df7b14"
   },
   "outputs": [
    {
     "data": {
      "text/plain": [
       "2.5409495165237745e-15"
      ]
     },
     "execution_count": 18,
     "metadata": {},
     "output_type": "execute_result"
    }
   ],
   "source": [
    "opnorm(A-Aqr.Q*Aqr.R)"
   ]
  },
  {
   "cell_type": "code",
   "execution_count": 19,
   "metadata": {
    "id": "iq5gvIkdCbWL",
    "outputId": "516addb1-a248-4d79-ad83-3b908416f51b"
   },
   "outputs": [
    {
     "data": {
      "text/plain": [
       "1.0072593312523528e-15"
      ]
     },
     "execution_count": 19,
     "metadata": {},
     "output_type": "execute_result"
    }
   ],
   "source": [
    "opnorm(Aqr.Q'Aqr.Q-UniformScaling(1))"
   ]
  },
  {
   "cell_type": "code",
   "execution_count": 22,
   "metadata": {
    "id": "rWinVrE0CbWL",
    "outputId": "d9cc9922-2b6e-4fd9-f736-79286d213047"
   },
   "outputs": [
    {
     "data": {
      "text/plain": [
       "3×3 Matrix{Int64}:\n",
       " 1  1  1\n",
       " 1  1  1\n",
       " 1  1  1"
      ]
     },
     "execution_count": 22,
     "metadata": {},
     "output_type": "execute_result"
    }
   ],
   "source": [
    "T1=[1 1; 1 1; 1 1]\n",
    "T2=[1;1;1]\n",
    "T=[T1 T2]"
   ]
  },
  {
   "cell_type": "code",
   "execution_count": 23,
   "metadata": {
    "id": "nwGWF5TfCbWM",
    "outputId": "9f2589f5-ca62-430a-e81d-294c783ac42d"
   },
   "outputs": [
    {
     "data": {
      "text/plain": [
       "10"
      ]
     },
     "execution_count": 23,
     "metadata": {},
     "output_type": "execute_result"
    }
   ],
   "source": [
    "Int(20/2)"
   ]
  },
  {
   "cell_type": "code",
   "execution_count": 26,
   "metadata": {
    "id": "Ge2Xh-TeCbWM"
   },
   "outputs": [],
   "source": [
    "n = 20\n",
    "m = 30 \n",
    "A1 = rand(m,Int(n/2));\n",
    "A2=A1+0.0000000001*rand(m,Int(n/2));\n",
    "opnorm(A1-A2)\n",
    "A3=[A1 A2];\n",
    "#A3=rand(m,n)"
   ]
  },
  {
   "cell_type": "code",
   "execution_count": 27,
   "metadata": {
    "id": "8o_kW02RCbWM"
   },
   "outputs": [],
   "source": [
    "Q2, R2 = QR(A3);"
   ]
  },
  {
   "cell_type": "code",
   "execution_count": 28,
   "metadata": {
    "id": "g7V23rwiCbWN",
    "outputId": "b8165c73-445f-4310-e5ee-6e981e9d9daa"
   },
   "outputs": [
    {
     "data": {
      "text/plain": [
       "8.258056218067943e-16"
      ]
     },
     "execution_count": 28,
     "metadata": {},
     "output_type": "execute_result"
    }
   ],
   "source": [
    "opnorm(A3-Q2*R2)"
   ]
  },
  {
   "cell_type": "code",
   "execution_count": 29,
   "metadata": {
    "id": "DUVR7Gd-CbWN",
    "outputId": "80da53db-1b84-4cf7-f8e9-9f502651df24"
   },
   "outputs": [
    {
     "data": {
      "text/plain": [
       "9.000000000300775"
      ]
     },
     "execution_count": 29,
     "metadata": {},
     "output_type": "execute_result"
    }
   ],
   "source": [
    "opnorm(Q2'Q2-UniformScaling(1))"
   ]
  },
  {
   "cell_type": "code",
   "execution_count": 30,
   "metadata": {
    "id": "7c3N3GeyCbWN",
    "outputId": "79a887d9-e7c0-49f1-e1b4-94a3b0555d1a"
   },
   "outputs": [
    {
     "data": {
      "text/plain": [
       "20-element Vector{Float64}:\n",
       " 3.736710973032969\n",
       " 1.6876686644072467\n",
       " 1.8710366346078198\n",
       " 1.5948257508818313\n",
       " 1.6819485051176848\n",
       " 1.6717121511352266\n",
       " 1.6144502913781063\n",
       " 1.4236237333966337\n",
       " 1.5678220608449374\n",
       " 1.4688198642569716\n",
       " 1.4870943154031674e-10\n",
       " 1.415066242036566e-5\n",
       " 9.60851739935723e-6\n",
       " 7.931046835727973e-6\n",
       " 2.6594332901746154e-5\n",
       " 1.4080244613845847e-5\n",
       " 5.166141401516387e-5\n",
       " 0.00013026451152991773\n",
       " 5.5098152899515985e-5\n",
       " 7.332807466008145e-5"
      ]
     },
     "execution_count": 30,
     "metadata": {},
     "output_type": "execute_result"
    }
   ],
   "source": [
    "diag(R2)"
   ]
  },
  {
   "cell_type": "code",
   "execution_count": null,
   "metadata": {
    "id": "CYjP_3xxCbWN"
   },
   "outputs": [],
   "source": []
  }
 ],
 "metadata": {
  "colab": {
   "name": "Cuaderno2.ipynb",
   "provenance": []
  },
  "kernelspec": {
   "display_name": "Julia 1.7.2",
   "language": "julia",
   "name": "julia-1.7"
  },
  "language_info": {
   "file_extension": ".jl",
   "mimetype": "application/julia",
   "name": "julia",
   "version": "1.7.2"
  }
 },
 "nbformat": 4,
 "nbformat_minor": 1
}
